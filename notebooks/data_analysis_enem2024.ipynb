{
 "cells": [
  {
   "cell_type": "code",
   "execution_count": 1,
   "id": "5b4f3e03",
   "metadata": {},
   "outputs": [],
   "source": [
    "# Importar bibliotecas\n",
    "\n",
    "import pandas as pd\n",
    "import sqlite3\n",
    "from pathlib import Path"
   ]
  },
  {
   "cell_type": "code",
   "execution_count": 2,
   "id": "e37f29aa",
   "metadata": {},
   "outputs": [
    {
     "data": {
      "text/html": [
       "<div>\n",
       "<style scoped>\n",
       "    .dataframe tbody tr th:only-of-type {\n",
       "        vertical-align: middle;\n",
       "    }\n",
       "\n",
       "    .dataframe tbody tr th {\n",
       "        vertical-align: top;\n",
       "    }\n",
       "\n",
       "    .dataframe thead th {\n",
       "        text-align: right;\n",
       "    }\n",
       "</style>\n",
       "<table border=\"1\" class=\"dataframe\">\n",
       "  <thead>\n",
       "    <tr style=\"text-align: right;\">\n",
       "      <th></th>\n",
       "      <th>NU_SEQUENCIAL;NU_ANO;CO_ESCOLA;CO_MUNICIPIO_ESC;NO_MUNICIPIO_ESC;CO_UF_ESC;SG_UF_ESC;TP_DEPENDENCIA_ADM_ESC;TP_LOCALIZACAO_ESC;TP_SIT_FUNC_ESC;CO_MUNICIPIO_PROVA;NO_MUNICIPIO_PROVA;CO_UF_PROVA;SG_UF_PROVA;TP_PRESENCA_CN;TP_PRESENCA_CH;TP_PRESENCA_LC;TP_PRESENCA_MT;CO_PROVA_CN;CO_PROVA_CH;CO_PROVA_LC;CO_PROVA_MT;NU_NOTA_CN;NU_NOTA_CH;NU_NOTA_LC;NU_NOTA_MT;TX_RESPOSTAS_CN;TX_RESPOSTAS_CH;TX_RESPOSTAS_LC;TX_RESPOSTAS_MT;TP_LINGUA;TX_GABARITO_CN;TX_GABARITO_CH;TX_GABARITO_LC;TX_GABARITO_MT;TP_STATUS_REDACAO;NU_NOTA_COMP1;NU_NOTA_COMP2;NU_NOTA_COMP3;NU_NOTA_COMP4;NU_NOTA_COMP5;NU_NOTA_REDACAO</th>\n",
       "    </tr>\n",
       "  </thead>\n",
       "  <tbody>\n",
       "    <tr>\n",
       "      <th>0</th>\n",
       "      <td>206403;2024;23052929;2301406;Aratuba;23;CE;2;1...</td>\n",
       "    </tr>\n",
       "    <tr>\n",
       "      <th>1</th>\n",
       "      <td>3604651;2024;42103770;4218004;Tijucas;42;SC;4;...</td>\n",
       "    </tr>\n",
       "    <tr>\n",
       "      <th>2</th>\n",
       "      <td>1461268;2024;;;;;;;;;4122404;Rolndia;41;PR;1;1...</td>\n",
       "    </tr>\n",
       "    <tr>\n",
       "      <th>3</th>\n",
       "      <td>4301058;2024;;;;;;;;;3534401;Osasco;35;SP;1;1;...</td>\n",
       "    </tr>\n",
       "    <tr>\n",
       "      <th>4</th>\n",
       "      <td>3148322;2024;21150354;2100436;Alto Alegre do M...</td>\n",
       "    </tr>\n",
       "  </tbody>\n",
       "</table>\n",
       "</div>"
      ],
      "text/plain": [
       "  NU_SEQUENCIAL;NU_ANO;CO_ESCOLA;CO_MUNICIPIO_ESC;NO_MUNICIPIO_ESC;CO_UF_ESC;SG_UF_ESC;TP_DEPENDENCIA_ADM_ESC;TP_LOCALIZACAO_ESC;TP_SIT_FUNC_ESC;CO_MUNICIPIO_PROVA;NO_MUNICIPIO_PROVA;CO_UF_PROVA;SG_UF_PROVA;TP_PRESENCA_CN;TP_PRESENCA_CH;TP_PRESENCA_LC;TP_PRESENCA_MT;CO_PROVA_CN;CO_PROVA_CH;CO_PROVA_LC;CO_PROVA_MT;NU_NOTA_CN;NU_NOTA_CH;NU_NOTA_LC;NU_NOTA_MT;TX_RESPOSTAS_CN;TX_RESPOSTAS_CH;TX_RESPOSTAS_LC;TX_RESPOSTAS_MT;TP_LINGUA;TX_GABARITO_CN;TX_GABARITO_CH;TX_GABARITO_LC;TX_GABARITO_MT;TP_STATUS_REDACAO;NU_NOTA_COMP1;NU_NOTA_COMP2;NU_NOTA_COMP3;NU_NOTA_COMP4;NU_NOTA_COMP5;NU_NOTA_REDACAO\n",
       "0  206403;2024;23052929;2301406;Aratuba;23;CE;2;1...                                                                                                                                                                                                                                                                                                                                                                                                                                                                                                                                                                \n",
       "1  3604651;2024;42103770;4218004;Tijucas;42;SC;4;...                                                                                                                                                                                                                                                                                                                                                                                                                                                                                                                                                                \n",
       "2  1461268;2024;;;;;;;;;4122404;Rolndia;41;PR;1;1...                                                                                                                                                                                                                                                                                                                                                                                                                                                                                                                                                                \n",
       "3  4301058;2024;;;;;;;;;3534401;Osasco;35;SP;1;1;...                                                                                                                                                                                                                                                                                                                                                                                                                                                                                                                                                                \n",
       "4  3148322;2024;21150354;2100436;Alto Alegre do M...                                                                                                                                                                                                                                                                                                                                                                                                                                                                                                                                                                "
      ]
     },
     "execution_count": 2,
     "metadata": {},
     "output_type": "execute_result"
    }
   ],
   "source": [
    "# Leitura dos dados parquet\n",
    "\n",
    "df_participantes = pd.read_parquet(\"../dados/raw/participantes-2024.parquet\")\n",
    "df_resultados = pd.read_parquet(\"../dados/raw/resultados-2024.parquet\")\n",
    "\n",
    "df_participantes.head()\n",
    "df_resultados.head()\t"
   ]
  },
  {
   "cell_type": "code",
   "execution_count": 90,
   "id": "c1a80366",
   "metadata": {},
   "outputs": [],
   "source": [
    "# Conexão com banco de dados\n",
    "conn = sqlite3.connect(\"enem2024.db\")\n",
    "cursor = conn.cursor()"
   ]
  },
  {
   "cell_type": "code",
   "execution_count": 85,
   "id": "907464d5",
   "metadata": {},
   "outputs": [
    {
     "data": {
      "text/plain": [
       "4332944"
      ]
     },
     "execution_count": 85,
     "metadata": {},
     "output_type": "execute_result"
    }
   ],
   "source": [
    "# Criar tabelas staging\n",
    "\n",
    "df_participantes.to_sql(\"stg_participantes\", conn, if_exists=\"replace\", index=False)\n",
    "df_resultados.to_sql(\"stg_resultados\", conn, if_exists=\"replace\", index=False)"
   ]
  },
  {
   "cell_type": "code",
   "execution_count": 70,
   "id": "59f8e5f1",
   "metadata": {},
   "outputs": [
    {
     "name": "stdout",
     "output_type": "stream",
     "text": [
      "(0, 'NU_SEQUENCIAL;NU_ANO;CO_ESCOLA;CO_MUNICIPIO_ESC;NO_MUNICIPIO_ESC;CO_UF_ESC;SG_UF_ESC;TP_DEPENDENCIA_ADM_ESC;TP_LOCALIZACAO_ESC;TP_SIT_FUNC_ESC;CO_MUNICIPIO_PROVA;NO_MUNICIPIO_PROVA;CO_UF_PROVA;SG_UF_PROVA;TP_PRESENCA_CN;TP_PRESENCA_CH;TP_PRESENCA_LC;TP_PRESENCA_MT;CO_PROVA_CN;CO_PROVA_CH;CO_PROVA_LC;CO_PROVA_MT;NU_NOTA_CN;NU_NOTA_CH;NU_NOTA_LC;NU_NOTA_MT;TX_RESPOSTAS_CN;TX_RESPOSTAS_CH;TX_RESPOSTAS_LC;TX_RESPOSTAS_MT;TP_LINGUA;TX_GABARITO_CN;TX_GABARITO_CH;TX_GABARITO_LC;TX_GABARITO_MT;TP_STATUS_REDACAO;NU_NOTA_COMP1;NU_NOTA_COMP2;NU_NOTA_COMP3;NU_NOTA_COMP4;NU_NOTA_COMP5;NU_NOTA_REDACAO', 'TEXT', 0, None, 0)\n"
     ]
    }
   ],
   "source": [
    "# Exemplo para verificar o esquema da tabela\n",
    "cursor.execute(\"PRAGMA table_info(stg_resultados);\")\n",
    "colunas = cursor.fetchall()\n",
    "for coluna in colunas:\n",
    "    print(coluna)"
   ]
  },
  {
   "cell_type": "code",
   "execution_count": 104,
   "id": "1921ee5f",
   "metadata": {},
   "outputs": [
    {
     "name": "stdout",
     "output_type": "stream",
     "text": [
      "Tabelas staging criadas.\n"
     ]
    }
   ],
   "source": [
    "# Armazena dados brutos exatamente como vieram do parquet\n",
    "\n",
    "cursor.execute(\"\"\"\n",
    "DROP TABLE IF EXISTS stg_participantes;\n",
    "\"\"\")\n",
    "\n",
    "# Criar a tabela staging\n",
    "\n",
    "cursor.execute(\"\"\"\n",
    "CREATE TABLE stg_participantes (\n",
    "    NU_INSCRICAO INTEGER,\n",
    "    NU_ANO INTEGER,\n",
    "    TP_FAIXA_ETARIA INTEGER,\n",
    "    TP_SEXO TEXT,\n",
    "    TP_ESTADO_CIVIL INTEGER,\n",
    "    TP_COR_RACA INTEGER,\n",
    "    TP_NACIONALIDADE INTEGER,\n",
    "    TP_ST_CONCLUSAO INTEGER,\n",
    "    TP_ENSINO INTEGER,\n",
    "    IN_TREINEIRO INTEGER,\n",
    "    CO_MUNICIPIO_PROVA INTEGER,\n",
    "    NO_MUNICIPIO_PROVA TEXT,\n",
    "    CO_UF_PROVA INTEGER\n",
    ");\n",
    "\"\"\")\n",
    "\n",
    "# Tabela staging para resultados\n",
    "cursor.execute(\"\"\"\n",
    "DROP TABLE IF EXISTS stg_resultados;\n",
    "\"\"\")\n",
    "\n",
    "cursor.execute(\"\"\"\n",
    "CREATE TABLE stg_resultados (\n",
    "    NU_SEQUENCIAL INTEGER,\n",
    "    NU_ANO INTEGER,\n",
    "    CO_ESCOLA INTEGER,\n",
    "    CO_MUNICIPIO_ESC INTEGER,\n",
    "    NO_MUNICIPIO_ESC TEXT,\n",
    "    CO_UF_ESC INTEGER,\n",
    "    SG_UF_ESC TEXT,\n",
    "    TP_DEPENDENCIA_ADM_ESC INTEGER,\n",
    "    CO_MUNICIPIO_PROVA INTEGER,\n",
    "    NO_MUNICIPIO_PROVA TEXT,\n",
    "    CO_UF_PROVA INTEGER,\n",
    "    NU_NOTA_CN REAL,\n",
    "    NU_NOTA_CH REAL,\t\t\t\t\t\t\t\t\t\t\t\t\n",
    "    NU_NOTA_LC REAL,\n",
    "    NU_NOTA_MT REAL,\t\n",
    "    NU_NOTA_REDACAO REAL\n",
    ");\n",
    "\"\"\")\n",
    "\n",
    "\n",
    "print(\"Tabelas staging criadas.\")"
   ]
  },
  {
   "cell_type": "code",
   "execution_count": null,
   "id": "02a6e852",
   "metadata": {},
   "outputs": [
    {
     "name": "stdout",
     "output_type": "stream",
     "text": [
      "Dimensões e tabela fato criadas.\n"
     ]
    }
   ],
   "source": [
    "# Criar dimensões\n",
    "\n",
    "cursor.executescript(\"\"\"\n",
    "DROP TABLE IF EXISTS dim_aluno;\n",
    "CREATE TABLE dim_aluno AS\n",
    "SELECT DISTINCT\n",
    "    NU_INSCRICAO AS aluno_id,\n",
    "    NU_ANO,\n",
    "    TP_FAIXA_ETARIA,\n",
    "    TP_SEXO,\n",
    "    TP_ESTADO_CIVIL,\n",
    "    TP_COR_RACA,\n",
    "    TP_NACIONALIDADE,\n",
    "    TP_ST_CONCLUSAO,\n",
    "    TP_ENSINO,\n",
    "    IN_TREINEIRO,\n",
    "    CO_MUNICIPIO_PROVA,\n",
    "    NO_MUNICIPIO_PROVA,\n",
    "    CO_UF_PROVA\n",
    "FROM stg_participantes;\n",
    "\n",
    "DROP TABLE IF EXISTS dim_escola;\n",
    "CREATE TABLE dim_escola AS\n",
    "SELECT DISTINCT\n",
    "    CO_ESCOLA AS escola_id,\n",
    "    CO_MUNICIPIO_ESC,\n",
    "    NO_MUNICIPIO_ESC,\n",
    "    CO_UF_ESC,\n",
    "    SG_UF_ESC,\n",
    "    TP_DEPENDENCIA_ADM_ESC\n",
    "FROM stg_resultados;\n",
    "\n",
    "DROP TABLE IF EXISTS dim_local_prova;\n",
    "CREATE TABLE dim_local_prova AS\n",
    "SELECT DISTINCT\n",
    "    CO_MUNICIPIO_PROVA AS municipio_id,\n",
    "    NO_MUNICIPIO_PROVA,\n",
    "    CO_UF_PROVA\n",
    "FROM stg_resultados;\n",
    "\n",
    "DROP TABLE IF EXISTS dim_tempo;\n",
    "CREATE TABLE dim_tempo AS\n",
    "SELECT DISTINCT\n",
    "    NU_ANO AS ano\n",
    "FROM stg_resultados;\n",
    "\"\"\")\n",
    "\n",
    "# Criar tabela fato\n",
    "\n",
    "cursor.executescript(\"\"\"\n",
    "DROP TABLE IF EXISTS fato_resultados;\n",
    "CREATE TABLE fato_resultados AS\n",
    "SELECT\n",
    "    r.NU_SEQUENCIAL AS resultado_id,\n",
    "    p.NU_INSCRICAO AS aluno_id,\n",
    "    r.CO_ESCOLA AS escola_id,\n",
    "    r.CO_MUNICIPIO_PROVA AS municipio_id,\n",
    "    NU_NOTA_CN REAL,\n",
    "    NU_NOTA_CH REAL,\t\t\t\t\t\t\t\t\t\t\t\t\n",
    "    NU_NOTA_LC REAL,\n",
    "    NU_NOTA_MT REAL,\t\n",
    "    NU_NOTA_REDACAO REAL\n",
    "FROM stg_resultados r\n",
    "JOIN stg_participantes p ON r.NU_ANO = p.NU_ANO\n",
    "    AND r.CO_MUNICIPIO_PROVA = p.CO_MUNICIPIO_PROVA;\n",
    "\"\"\")\n",
    "\n",
    "print(\"Dimensões e tabela fato criadas.\")"
   ]
  },
  {
   "cell_type": "markdown",
   "id": "fe0a9b05",
   "metadata": {},
   "source": [
    "### 1. Qual a escola com a maior média de notas?"
   ]
  },
  {
   "cell_type": "code",
   "execution_count": 116,
   "id": "494c576b",
   "metadata": {},
   "outputs": [],
   "source": [
    "q1 = \"\"\"\n",
    "SELECT e.NO_MUNICIPIO_ESC, e.SG_UF_ESC, e.TP_DEPENDENCIA_ADM_ESC,\n",
    "       AVG((f.NU_NOTA_1 + f.NU_NOTA_2 + f.NU_NOTA_3)/3) AS media_escola\n",
    "FROM fato_resultados f\n",
    "JOIN dim_escola e ON f.escola_id = e.escola_id\n",
    "GROUP BY e.NO_MUNICIPIO_ESC, e.SG_UF_ESC, e.TP_DEPENDENCIA_ADM_ESC\n",
    "ORDER BY media_escola DESC\n",
    "LIMIT 1;\n",
    "\"\"\""
   ]
  },
  {
   "cell_type": "markdown",
   "id": "11de0725",
   "metadata": {},
   "source": [
    "### 2. Qual o aluno com a maior média de notas?"
   ]
  },
  {
   "cell_type": "code",
   "execution_count": 118,
   "id": "533705db",
   "metadata": {},
   "outputs": [],
   "source": [
    "q2 = \"\"\"\n",
    "SELECT a.aluno_id,\n",
    "       AVG((f.NU_NOTA_1 + f.NU_NOTA_2 + f.NU_NOTA_3)/3) AS media_aluno\n",
    "FROM fato_resultados f\n",
    "JOIN dim_aluno a ON f.aluno_id = a.aluno_id\n",
    "GROUP BY a.aluno_id\n",
    "ORDER BY media_aluno DESC\n",
    "LIMIT 1;\n",
    "\"\"\""
   ]
  },
  {
   "cell_type": "markdown",
   "id": "af989d79",
   "metadata": {},
   "source": [
    "### 3. Qual a média geral?"
   ]
  },
  {
   "cell_type": "code",
   "execution_count": 119,
   "id": "f38cdcab",
   "metadata": {},
   "outputs": [],
   "source": [
    "q3 = \"\"\"\n",
    "SELECT AVG((NU_NOTA_1 + NU_NOTA_2 + NU_NOTA_3)/3) AS media_geral\n",
    "FROM fato_resultados;\n",
    "\"\"\""
   ]
  },
  {
   "cell_type": "markdown",
   "id": "513b7cd1",
   "metadata": {},
   "source": [
    "### 4. Qual o porcentagem %  de ausências?"
   ]
  },
  {
   "cell_type": "code",
   "execution_count": 120,
   "id": "7f2df4f2",
   "metadata": {},
   "outputs": [],
   "source": [
    "# (Supondo que ausência = todas notas NULL)\n",
    "\n",
    "q4 = \"\"\"\n",
    "SELECT \n",
    "    (SUM(CASE WHEN NU_NOTA_1 IS NULL AND NU_NOTA_2 IS NULL AND NU_NOTA_3 IS NULL THEN 1 ELSE 0 END) * 100.0) / COUNT(*) \n",
    "    AS perc_ausentes\n",
    "FROM fato_resultados;\n",
    "\"\"\""
   ]
  },
  {
   "cell_type": "markdown",
   "id": "aebf049e",
   "metadata": {},
   "source": [
    "### 5. Número total de inscritos?"
   ]
  },
  {
   "cell_type": "code",
   "execution_count": 121,
   "id": "559871aa",
   "metadata": {},
   "outputs": [],
   "source": [
    "q5 = \"SELECT COUNT(DISTINCT aluno_id) AS total_inscritos FROM fato_resultados;\""
   ]
  },
  {
   "cell_type": "markdown",
   "id": "7ff45b2f",
   "metadata": {},
   "source": [
    "### 6. Média por disciplina"
   ]
  },
  {
   "cell_type": "code",
   "execution_count": 122,
   "id": "2360173b",
   "metadata": {},
   "outputs": [],
   "source": [
    "q6 = \"\"\"\n",
    "SELECT AVG(NU_NOTA_1) AS media_nota1,\n",
    "       AVG(NU_NOTA_2) AS media_nota2,\n",
    "       AVG(NU_NOTA_3) AS media_nota3\n",
    "FROM fato_resultados;\n",
    "\"\"\""
   ]
  },
  {
   "cell_type": "markdown",
   "id": "d8dda8e8",
   "metadata": {},
   "source": [
    "### 7. Média por Sexo?"
   ]
  },
  {
   "cell_type": "code",
   "execution_count": 123,
   "id": "3d6bf833",
   "metadata": {},
   "outputs": [],
   "source": [
    "q7 = \"\"\"\n",
    "SELECT a.TP_SEXO,\n",
    "       AVG((f.NU_NOTA_1 + f.NU_NOTA_2 + f.NU_NOTA_3)/3) AS media_sexo\n",
    "FROM fato_resultados f\n",
    "JOIN dim_aluno a ON f.aluno_id = a.aluno_id\n",
    "GROUP BY a.TP_SEXO;\n",
    "\"\"\""
   ]
  },
  {
   "cell_type": "markdown",
   "id": "8b7d200c",
   "metadata": {},
   "source": [
    "### 8. Média por Etnia"
   ]
  },
  {
   "cell_type": "code",
   "execution_count": null,
   "id": "df1b81e3",
   "metadata": {},
   "outputs": [],
   "source": [
    "q8 = \"\"\"\n",
    "SELECT a.TP_COR_RACA,\n",
    "       AVG((f.NU_NOTA_1 + f.NU_NOTA_2 + f.NU_NOTA_3)/3) AS media_etnia\n",
    "FROM fato_resultados f\n",
    "JOIN dim_aluno a ON f.aluno_id = a.aluno_id\n",
    "GROUP BY a.TP_COR_RACA;\n",
    "\"\"\""
   ]
  }
 ],
 "metadata": {
  "kernelspec": {
   "display_name": ".venv",
   "language": "python",
   "name": "python3"
  },
  "language_info": {
   "codemirror_mode": {
    "name": "ipython",
    "version": 3
   },
   "file_extension": ".py",
   "mimetype": "text/x-python",
   "name": "python",
   "nbconvert_exporter": "python",
   "pygments_lexer": "ipython3",
   "version": "3.11.9"
  }
 },
 "nbformat": 4,
 "nbformat_minor": 5
}
